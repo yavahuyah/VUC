{
 "cells": [
  {
   "cell_type": "code",
   "execution_count": 22,
   "id": "a6981063",
   "metadata": {},
   "outputs": [
    {
     "name": "stderr",
     "output_type": "stream",
     "text": [
      "                                                                                \r"
     ]
    }
   ],
   "source": [
    "import pandas as pd\n",
    "from pyspark.sql import SparkSession\n",
    "from pyspark.ml import Pipeline\n",
    "from pyspark.ml.classification import GBTClassifier\n",
    "from pyspark.ml.feature import VectorAssembler\n",
    "from pyspark.ml.evaluation import BinaryClassificationEvaluator\n",
    "from pyspark.sql import SparkSession\n",
    "\n",
    "   # Создаем SparkSession\n",
    "spark = SparkSession.builder.appName(\"SmokeDetection\").getOrCreate()\n",
    "\n",
    "   # Загружаем данные с помощью Pandas\n",
    "pandas_df = pd.read_csv(\"smoke_detection_iot.csv\")\n",
    "  # Загружаем данные с помощ spark\n",
    "df = spark.read.csv(\"smoke_detection_iot.csv\", header = \"True\", inferSchema=True) "
   ]
  },
  {
   "cell_type": "code",
   "execution_count": null,
   "id": "a3fb40c4",
   "metadata": {},
   "outputs": [],
   "source": []
  },
  {
   "cell_type": "code",
   "execution_count": 25,
   "id": "624fad58",
   "metadata": {},
   "outputs": [],
   "source": [
    "# Выбираем нужные колонки (предположим, нас интересует предсказание температуры)\n",
    "data = df.select(\n",
    "    col(\"Temperature[C]\").alias(\"label\"),\n",
    "    \"Humidity[%]\",\n",
    "    \"TVOC[ppb]\",\n",
    "    \"eCO2[ppm]\",\n",
    "    \"Raw H2\",\n",
    "    \"Raw Ethanol\",\n",
    ")"
   ]
  },
  {
   "cell_type": "code",
   "execution_count": 26,
   "id": "7c03d803",
   "metadata": {},
   "outputs": [
    {
     "name": "stderr",
     "output_type": "stream",
     "text": [
      "                                                                                \r"
     ]
    }
   ],
   "source": [
    "# 1. Заполняем пропуски (если есть) средним значением\n",
    "for col_name in data.columns[1:]:\n",
    "    mean_value = data.agg({col_name: \"mean\"}).collect()[0][0]\n",
    "    data = data.fillna(mean_value, subset=[col_name])\n",
    "\n",
    "# 2. Собираем фичи в вектор\n",
    "assembler = VectorAssembler(inputCols=data.columns[1:], outputCol=\"features\")\n",
    "data = assembler.transform(data)\n",
    "\n",
    "# 3. Масштабируем фичи\n",
    "scaler = StandardScaler(inputCol=\"features\", outputCol=\"scaledFeatures\", withStd=True, withMean=True)\n",
    "scalerModel = scaler.fit(data)\n",
    "data = scalerModel.transform(data)\n"
   ]
  },
  {
   "cell_type": "code",
   "execution_count": 27,
   "id": "f0c2026e",
   "metadata": {},
   "outputs": [],
   "source": [
    "train_data, test_data = data.randomSplit([0.7, 0.3])\n",
    "\n"
   ]
  },
  {
   "cell_type": "code",
   "execution_count": 28,
   "id": "90582505",
   "metadata": {},
   "outputs": [
    {
     "name": "stderr",
     "output_type": "stream",
     "text": [
      "2024-06-16 04:03:24,338 WARN util.Instrumentation: [dc92c439] regParam is zero, which might cause numerical instability and overfitting.\n",
      "2024-06-16 04:03:26,108 WARN netlib.BLAS: Failed to load implementation from: com.github.fommil.netlib.NativeSystemBLAS\n",
      "2024-06-16 04:03:26,109 WARN netlib.BLAS: Failed to load implementation from: com.github.fommil.netlib.NativeRefBLAS\n",
      "2024-06-16 04:03:26,916 WARN netlib.LAPACK: Failed to load implementation from: com.github.fommil.netlib.NativeSystemLAPACK\n",
      "2024-06-16 04:03:26,916 WARN netlib.LAPACK: Failed to load implementation from: com.github.fommil.netlib.NativeRefLAPACK\n",
      "                                                                                \r"
     ]
    }
   ],
   "source": [
    "lr = LinearRegression(featuresCol=\"scaledFeatures\", labelCol=\"label\")\n",
    "lr_model = lr.fit(train_data)\n"
   ]
  },
  {
   "cell_type": "code",
   "execution_count": 29,
   "id": "2aa50d92",
   "metadata": {},
   "outputs": [],
   "source": [
    "predictions = lr_model.transform(test_data)\n"
   ]
  },
  {
   "cell_type": "code",
   "execution_count": 30,
   "id": "a2196933",
   "metadata": {},
   "outputs": [
    {
     "name": "stderr",
     "output_type": "stream",
     "text": [
      "\r",
      "[Stage 16:>                                                         (0 + 2) / 2]\r",
      "\r",
      "[Stage 16:=============================>                            (1 + 1) / 2]\r"
     ]
    },
    {
     "name": "stdout",
     "output_type": "stream",
     "text": [
      "Root Mean Squared Error (RMSE) = 13.8546\n"
     ]
    },
    {
     "name": "stderr",
     "output_type": "stream",
     "text": [
      "\r",
      "                                                                                \r"
     ]
    }
   ],
   "source": [
    "evaluator = RegressionEvaluator(labelCol=\"label\", predictionCol=\"prediction\", metricName=\"rmse\")\n",
    "rmse = evaluator.evaluate(predictions)\n",
    "print(\"Root Mean Squared Error (RMSE) = %g\" % rmse)\n"
   ]
  },
  {
   "cell_type": "code",
   "execution_count": null,
   "id": "40e7504e",
   "metadata": {},
   "outputs": [],
   "source": []
  }
 ],
 "metadata": {
  "kernelspec": {
   "display_name": "Python 3 (ipykernel)",
   "language": "python",
   "name": "python3"
  },
  "language_info": {
   "codemirror_mode": {
    "name": "ipython",
    "version": 3
   },
   "file_extension": ".py",
   "mimetype": "text/x-python",
   "name": "python",
   "nbconvert_exporter": "python",
   "pygments_lexer": "ipython3",
   "version": "3.8.11"
  }
 },
 "nbformat": 4,
 "nbformat_minor": 5
}
